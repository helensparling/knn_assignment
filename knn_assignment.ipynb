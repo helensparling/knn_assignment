{
 "cells": [
  {
   "cell_type": "code",
   "execution_count": 103,
   "id": "6eac0a3b-5aeb-46e4-add1-ac36b825ed82",
   "metadata": {},
   "outputs": [],
   "source": [
    "import numpy as np\n",
    "import matplotlib.pyplot as plt\n",
    "import pandas as pd\n",
    "import seaborn as sns"
   ]
  },
  {
   "cell_type": "code",
   "execution_count": 104,
   "id": "69c705c3-d1e1-4c55-8395-458fcb54309e",
   "metadata": {},
   "outputs": [],
   "source": [
    "## Q1\n",
    "#1. Regression is used to predict numeric values for new data based on existing data. Classification, however, is used to predict CATEGORICAL values\n",
    "# for new data from existing data. \n",
    "\n",
    "#2. A confusion table is useful for conceptualizing error. It crosstabulates the predicted and true values in a Confusion matrix, looking for patterns \n",
    "# in sucesses and failures. \n",
    "\n",
    "#3. SSE is the sum squared error. It is the predicted value subtracted from the true value, and then squared, and summed over all the observations. It\n",
    "# can be used to assess whether the model is a good fit.\n",
    "\n",
    "#4. Overfitting is when a model is too complex to reliably explain the phenomenon. Underfitting is occurs when a model is too simple to be reliable in \n",
    "# how explaines the phenomenon that the researcher is interested in. \n",
    "\n",
    "#5. Splitting the data allows you to have one set for training, and the other as the target. This can be used to determine if the model is reliable. \n",
    "# For example, you could split the data 80/20, training on the 80% and testing it on the 20% target data. \n",
    "# Choosing k by evaluating accuracy or SSE helps find the most reliable model. A small k can overfit while a large k can underfit. Determining the best\n",
    "# value for k can be done by seeing which value of k produces the smallest SSE. \n",
    "\n",
    "#6. The k Nearest Neighbor Classification Algorithm is computing either using the modal case among neighbors, or a probability of each class occuring, \n",
    "# proportional to the frequence in the neighbors. The benefit of the first is you get a clear answer from a set. It takes the most common from among a \n",
    "# set. However, this is a simple majority and might not be the best option in all cases. For the second method, a probability for each class is \n",
    "# calculated, providing you with far more information than the first method. However, it is more complex. "
   ]
  },
  {
   "cell_type": "code",
   "execution_count": 105,
   "id": "78bd07b2-e7a3-4845-ae2c-b2fe943dd6d0",
   "metadata": {},
   "outputs": [
    {
     "name": "stdout",
     "output_type": "stream",
     "text": [
      "0\n",
      "0\n",
      "0\n",
      "   price  year  mileage\n",
      "0   6300  2008   274117\n",
      "1   2899  2011   190552\n",
      "2   5350  2018    39590\n",
      "3  25000  2014    64146\n",
      "4  27700  2018     6654\n",
      "(2499, 3)\n",
      "Index(['price', 'year', 'mileage'], dtype='object')\n"
     ]
    }
   ],
   "source": [
    "## Question 2.1 keep price, year, mileage\n",
    "\n",
    "cars_df = pd.read_csv(\"data/USA_cars_datasets.csv\")\n",
    "subset = cars_df[[\"price\", \"year\",\"mileage\"]]\n",
    "\n",
    "print(subset[\"price\"].isna().sum())\n",
    "print(subset[\"year\"].isna().sum())\n",
    "print(subset[\"mileage\"].isna().sum())\n",
    "\n",
    "print(subset.head(5))\n",
    "print(subset.shape)\n",
    "print(subset.columns)\n",
    "\n",
    "# There are no Nas to handle. There are 3 variables and 2499 observations in this dataset. "
   ]
  },
  {
   "cell_type": "code",
   "execution_count": 106,
   "id": "3c1526dd-df3a-4140-8d7a-f921626f9319",
   "metadata": {},
   "outputs": [
    {
     "name": "stdout",
     "output_type": "stream",
     "text": [
      "       year   mileage\n",
      "0  0.744681  0.269287\n",
      "1  0.808511  0.187194\n",
      "2  0.957447  0.038892\n",
      "3  0.872340  0.063016\n",
      "4  0.957447  0.006537\n"
     ]
    }
   ],
   "source": [
    "## Question 2.2 \n",
    "def maxmin(z):\n",
    "    z = (z-min(z))/(max(z)-min(z))\n",
    "    return(z)\n",
    "\n",
    "X = subset.loc[:,['year','mileage']]\n",
    "X = X.apply(maxmin)\n",
    "print(X.head(5))\n",
    "\n",
    "#subset.loc[:,'year']=X['year']\n",
    "#subset.loc[:,'mileage']=X['mileage']\n",
    "#print(subset.head(5))"
   ]
  },
  {
   "cell_type": "code",
   "execution_count": 107,
   "id": "f0f552e4-24e5-4b7b-af75-2866c340e45c",
   "metadata": {},
   "outputs": [],
   "source": [
    "## Question 2.3:\n",
    "\n",
    "y=subset['price']\n",
    "from sklearn.model_selection import train_test_split\n",
    "X_train, X_test, y_train, y_test = train_test_split(X,y, # Feature and target variables\n",
    "                                                    test_size=.2, # Split the sample 80 train/ 20 test\n",
    "                                                    random_state=65) # For replication purposes"
   ]
  },
  {
   "cell_type": "code",
   "execution_count": 108,
   "id": "3d787729-a750-4d63-844a-c71254fd5fde",
   "metadata": {},
   "outputs": [],
   "source": [
    "from sklearn.neighbors import KNeighborsRegressor"
   ]
  },
  {
   "cell_type": "code",
   "execution_count": 109,
   "id": "afe3bd81-b827-4025-9ab0-f831945aee13",
   "metadata": {},
   "outputs": [
    {
     "data": {
      "image/png": "[encoded data removed]",
      "text/plain": [
       "<Figure size 640x480 with 1 Axes>"
      ]
     },
     "metadata": {},
     "output_type": "display_data"
    }
   ],
   "source": [
    "## Question 2.4: use kNN algorithm and the training data to predict price using year and mileage for the test set for k=3,10,25,50,100,300. For each \n",
    "#value of K, compute the mean squared error and print a scatterplot showing the test value plotted against the predicted value. What patterns do you \n",
    "# notice as you increase K?\n",
    "\n",
    "k_bar = [3,10,25,50,100,300]\n",
    "SSE = [] \n",
    "SSE_on_train = []\n",
    "\n",
    "for k in k_bar:\n",
    "    model = KNeighborsRegressor(n_neighbors=k+1) \n",
    "    fitted_model = model.fit(X_train,y_train) \n",
    "    y_hat = fitted_model.predict(X_test) \n",
    "    SSE.append(np.sum( (y_test-y_hat)**2 )) \n",
    "    y_hat = fitted_model.predict(X_train)\n",
    "    SSE_on_train.append(np.sum((y_train-y_hat)**2))\n",
    "\n",
    "plt.plot(k_bar,SSE,label='Test SSE') # Plot SSE by k\n",
    "plt.xlabel(\"k\")\n",
    "plt.ylabel(\"SSE\")\n",
    "plt.legend(loc='upper right')\n",
    "plt.title('SSE')\n",
    "plt.show()"
   ]
  },
  {
   "cell_type": "code",
   "execution_count": 110,
   "id": "832d05a2-692c-4e45-acf0-a36e3ac434ed",
   "metadata": {},
   "outputs": [
    {
     "name": "stdout",
     "output_type": "stream",
     "text": [
      "<class 'list'>\n",
      "[np.float64(61233238204.75), np.float64(55500475971.64463), np.float64(52171677172.2929), np.float64(51835449704.51211), np.float64(52271575594.649536), np.float64(53799312465.44944)]\n",
      "55500475971.64463\n",
      "6\n"
     ]
    }
   ],
   "source": [
    "print(type(SSE))\n",
    "print(SSE)\n",
    "print(SSE[1])\n",
    "print(len(SSE))"
   ]
  },
  {
   "cell_type": "code",
   "execution_count": 111,
   "id": "5b931232-2763-4f9c-9dba-e3a1e041e6fe",
   "metadata": {},
   "outputs": [
    {
     "name": "stdout",
     "output_type": "stream",
     "text": [
      "111000951.94328927\n",
      "104343354.3445858\n",
      "103670899.40902421\n",
      "111000951.94328927\n",
      "111000951.94328927\n",
      "111000951.94328927\n"
     ]
    }
   ],
   "source": [
    "# Mean squared error\n",
    "n=len(y_test)\n",
    "SSE3 = SSE[1]/n\n",
    "SSE10 = SSE[2]/n\n",
    "SSE25 = SSE[3]/n\n",
    "SSE50 = SSE[1]/n\n",
    "SSE100= SSE[1]/n\n",
    "SSE300 = SSE[1]/n\n",
    "\n",
    "print(SSE3)\n",
    "print(SSE10)\n",
    "print(SSE25)\n",
    "print(SSE50)\n",
    "print(SSE100)\n",
    "print(SSE300)"
   ]
  },
  {
   "cell_type": "code",
   "execution_count": 112,
   "id": "d4e4bd28-6d1e-4e9d-a8b9-9bcd4218f510",
   "metadata": {},
   "outputs": [],
   "source": [
    "# As k incrreases, SSE beings to increase, which is not ideal. SSE initially decreases until k=50, but increases after that."
   ]
  },
  {
   "cell_type": "code",
   "execution_count": 113,
   "id": "72ba07a8-7b0d-489a-8420-eabc67d888cf",
   "metadata": {},
   "outputs": [
    {
     "name": "stdout",
     "output_type": "stream",
     "text": [
      "[4]\n"
     ]
    }
   ],
   "source": [
    "## Question 2.5: Optimal K\n",
    "\n",
    "SSE_min = np.min(SSE) # Find lowest recorded SSE\n",
    "min_index = np.where(SSE==SSE_min) # Find the indices of SSE that equal the minimum\n",
    "k_star = min_index[0]+1 # Find the optimal value of k; why index+1?\n",
    "print(k_star)\n",
    "\n",
    "# the optimal k is 4"
   ]
  },
  {
   "cell_type": "code",
   "execution_count": 114,
   "id": "ed186ebc-7acb-4ae1-99d2-90eea3fad5e9",
   "metadata": {},
   "outputs": [
    {
     "data": {
      "image/png": "[encoded data removed]",
      "text/plain": [
       "<Figure size 640x480 with 1 Axes>"
      ]
     },
     "metadata": {},
     "output_type": "display_data"
    }
   ],
   "source": [
    "# 2.6: Describe what happened in the plots of predicted versus actual prices as \n",
    " # varied, taking your answer into part 6 into account. (Hint: Use the words \"underfitting\" and \"overfitting\".)\n",
    "\n",
    "plt.plot(k_bar,SSE_on_train,label='Train') # Plot SSE by k\n",
    "plt.plot(k_bar,SSE,label='Test') # Plot SSE by k\n",
    "plt.xlabel(\"k\")\n",
    "plt.ylabel(\"SSE\")\n",
    "plt.legend(loc='lower right')\n",
    "plt.title('SSE')\n",
    "plt.show()\n",
    "\n",
    "# In this example, the training SSE is much higher than the testing SSE. this indicates underfitting, especially as k increases. The lower ranges of k \n",
    "# seem to fit the data better. This makes sense with the previous calculations that put the optimal k at 4."
   ]
  }
 ],
 "metadata": {
  "kernelspec": {
   "display_name": "Python 3 (ipykernel)",
   "language": "python",
   "name": "python3"
  },
  "language_info": {
   "codemirror_mode": {
    "name": "ipython",
    "version": 3
   },
   "file_extension": ".py",
   "mimetype": "text/x-python",
   "name": "python",
   "nbconvert_exporter": "python",
   "pygments_lexer": "ipython3",
   "version": "3.13.3"
  }
 },
 "nbformat": 4,
 "nbformat_minor": 5
}
